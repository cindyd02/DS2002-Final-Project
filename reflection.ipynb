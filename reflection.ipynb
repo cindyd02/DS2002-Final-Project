{
 "cells": [
  {
   "attachments": {},
   "cell_type": "markdown",
   "metadata": {},
   "source": [
    "## Reflection Paper\n",
    "Our group worked on a comprehensive data analysis project focusing on COVID-19 vaccination efforts and case numbers in the United States. This project involved data selection, ETL (Extract, Transform, Load) processes, data analysis, and cloud storage implementation. We encountered numerous challenges that significantly enhanced our understanding of data science.\n",
    "\n",
    "One of our initial hurdles was identifying reliable and up-to-date data sources. From our previous analysis, we used two key datasets: a country vaccinations CSV (2021-2022) and a country-wise latest CSV (2020). We needed to ensure that these datasets were not only comprehensive but also regularly updated and maintained by reputable organizations. For instance, our vaccination data showed detailed metrics like total vaccinations, people vaccinated, and daily vaccination rates, with 471 data points for the United States.\n",
    "\n",
    "During the ETL process, we encountered inconsistencies in data formats, particularly in date representations and naming conventions across different datasets. Our statistical summary revealed significant variations in the data, with total vaccinations ranging from 30,288 to 560,181,800, highlighting the complexity of our dataset. We discovered missing values that posed challenges for our analysis, requiring careful data cleaning and preprocessing.\n",
    "\n",
    "Gaining familiarity with ETL concepts was a significant part of this project. We learned to navigate the complex workflow of extracting data from our sources, transforming it to make it analysis-ready, and loading it into our chosen storage solution. This process was far more intricate than we initially anticipated, managing missing values and ensuring data consistency.\n",
    "\n",
    "The implementation of cloud storage presented its own set of challenges. We had to carefully consider factors like data security, scalability, and ease of access. For instance, to ensure the system was  accessible, we configured the public IP address with 0.0.0.0/0 so that all IP addresses can access it, not just our own. While we acknowledge, it is not good for wild scale projects, it is a temporary solution for testing purposes. One critical lesson we learned was the importance of protecting sensitive information - specifically, ensuring that connection keys and sensitive credentials were not stored in our main project files. We implemented best practices by creating a separate .env file to manage these sensitive details, a crucial step in maintaining data security.\n",
    "\n",
    "Our use of MySQL for data storage added another layer of complexity. We had to carefully design our database, optimize our queries, and ensure data integrity. This experience taught us the importance of robust database management and the importance of storing and retrieving health-related data efficiently.\n",
    "\n",
    "For team coordination, we learned to leverage tools like GitHub for version control and task tracking, and used collaborative platforms like Google Docs to ensure smooth communication and progress tracking.\n",
    "\n",
    "Through this project, we significantly enhanced our technical skills. We became proficient in using Python and pandas for data cleaning and preprocessing, and developed our abilities in data visualization using matplotlib and seaborn. Our statistical analysis skills improved as we worked to interpret the complex vaccination and COVID-19 case data we had collected.\n",
    "\n",
    "Our analysis revealed fascinating insights into US vaccination efforts. We found that the maximum number of people fully vaccinated reached 217.5 million, with daily vaccination rates varying significantly - from as low as 4,579 to as high as 3.5 million doses per day. These numbers told a compelling story about the United States' vaccination campaign during the COVID-19 pandemic.\n",
    "\n",
    "Reflecting on our experience, we identified several areas for future development. We recognized the need to explore more advanced statistical modeling techniques, particularly for time-series data. Machine learning applications in predictive health analytics emerged as an exciting potential avenue for future research.\n",
    "\n",
    "This project is an important learning experience that pushed us to apply theoretical knowledge to real-world data challenges. We gained a deeper appreciation for the complexities of data science, the importance of ethical data practices, and the critical role of technology in understanding public health challenges.\n",
    "\n",
    "The challenges we faced have not only improved our technical skills but also enhanced our problem-solving abilities and teamwork. We learned that data science is not just about writing code or creating visualizations, but about telling meaningful stories through data, understanding complex systems, and continuously learning and adapting."
   ]
  }
 ],
 "metadata": {
  "language_info": {
   "name": "python"
  },
  "orig_nbformat": 4
 },
 "nbformat": 4,
 "nbformat_minor": 2
}
